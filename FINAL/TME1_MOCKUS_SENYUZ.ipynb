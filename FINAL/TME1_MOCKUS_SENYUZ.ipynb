{
 "cells": [
  {
   "cell_type": "markdown",
   "metadata": {},
   "source": [
    "### Half Moons"
   ]
  },
  {
   "cell_type": "code",
   "execution_count": null,
   "metadata": {},
   "outputs": [],
   "source": [
    "import numpy as np\n",
    "from sklearn import datasets\n",
    "import matplotlib.pyplot as plt\n",
    "\n",
    "data, labels = datasets.make_moons(n_samples=1000, shuffle=True, noise=0.2, random_state=None)\n",
    "plt.scatter(data.T[0],data.T[1])"
   ]
  },
  {
   "cell_type": "code",
   "execution_count": null,
   "metadata": {},
   "outputs": [],
   "source": [
    "# Divide training test\n",
    "from sklearn import model_selection\n",
    "data_train, data_test, labels_train, labels_test =  model_selection.train_test_split(data, labels, test_size=.5, train_size=.5, random_state=None, shuffle=True, stratify=None)\n",
    "plt.scatter(data_train.T[0], data_train.T[1], c = labels_train)"
   ]
  },
  {
   "cell_type": "code",
   "execution_count": null,
   "metadata": {},
   "outputs": [],
   "source": [
    "# Growing Spheres:\n",
    "from scipy.special import gammainc\n",
    "from matplotlib import pyplot as plt\n",
    "\n",
    "\n",
    "def GrowingSpheres(clf, observation, m, n, dimensions):\n",
    "    stop = False\n",
    "    x_pred = clf.predict([observation]) # in {-1, 1}\n",
    "    while not stop:\n",
    "        z = GenerateOnSL(observation, 0, m, n, dimensions)\n",
    "        z_pred = clf.predict(z)\n",
    "        stop = all(x_pred == z_unit for z_unit in z_pred)\n",
    "        m = m/2\n",
    "    a_0 = m\n",
    "    a_1 = 2*m\n",
    "    stop = False\n",
    "    while all(z_unit == x_pred for z_unit in z_pred):\n",
    "        z = GenerateOnSL(observation, a_0, a_1, n, dimensions)\n",
    "        z_pred = clf.predict(z)\n",
    "        a_0 = a_1\n",
    "        a_1 = a_1 + m\n",
    "    norm_distances = [np.linalg.norm(observation -z[i]) if z_pred[i] != x_pred else 0 for i in range(len(z_pred))]\n",
    "    #for i, z_unit in enumerate(z):\n",
    "    #    if(z_predz)\n",
    "    return z[np.argmax(norm_distances)]\n",
    "    \n",
    "def GenerateOnSL(center, minR, maxR, nbSamples, dimensions):\n",
    "    # we obtain r varying between minR and maxR\n",
    "    R = np.random.uniform(minR, maxR, size = nbSamples)\n",
    "    points = []\n",
    "    x = np.random.normal(scale=1,size=(nbSamples, dimensions))\n",
    "    x_norm = [x[i]/ np.linalg.norm(x, axis = 1)[i] for i in range(x.shape[0])]\n",
    "    for i, x_point in enumerate(x_norm):\n",
    "        r = np.random.uniform(minR,maxR)\n",
    "        points.append(x_point * R[i] + center )\n",
    "    return np.array(points)"
   ]
  },
  {
   "cell_type": "code",
   "execution_count": null,
   "metadata": {},
   "outputs": [],
   "source": [
    "from cProfile import label\n",
    "from mlxtend.plotting import plot_decision_regions\n",
    "\n",
    "def plotEverything(X,Y,classifier,title, obs, enemy):\n",
    "\n",
    "\n",
    "    plot_decision_regions(X, Y, clf=classifier, legend=2)\n",
    "    \n",
    "    plt.scatter(obs[0], obs[1], c = 'lime',marker= 'x')\n",
    "    plt.scatter(enemy.T[0], enemy.T[1], c = 'red', marker = 'o')\n",
    "    # Adding axes annotations\n",
    "    plt.title(title)\n",
    "    plt.show()"
   ]
  },
  {
   "cell_type": "code",
   "execution_count": null,
   "metadata": {},
   "outputs": [],
   "source": [
    "choice = np.random.choice(len(data_test))\n",
    "#obs = [data_test[choice]]\n",
    "obs = [2,0]"
   ]
  },
  {
   "cell_type": "code",
   "execution_count": null,
   "metadata": {},
   "outputs": [],
   "source": [
    "\n",
    "# SVM\n",
    "#choice = np.random.choice(len(data_test))\n",
    "#obs = data_test[choice]\n",
    "from sklearn import svm\n",
    "\n",
    "svmClassifier = svm.SVC()\n",
    "svmClassifier.fit(data_train, labels_train)\n",
    "prediction = svmClassifier.predict(data_test)\n",
    "enemy = GrowingSpheres(svmClassifier, obs, 0.1, 20,2)\n",
    "plotEverything(data_test,prediction,svmClassifier,'SVM', obs, enemy)"
   ]
  },
  {
   "cell_type": "code",
   "execution_count": null,
   "metadata": {},
   "outputs": [],
   "source": [
    "# KNNN\n",
    "from sklearn import neighbors\n",
    "#choice = np.random.choice(len(data_test))\n",
    "#obs = data_test[choice]\n",
    "\n",
    "knnClassifier = neighbors.KNeighborsClassifier(n_neighbors=3)\n",
    "knnClassifier.fit(data_train, labels_train)\n",
    "prediction = knnClassifier.predict(data_test)\n",
    "enemy = GrowingSpheres(knnClassifier, obs, 0.1, 20,2)\n",
    "plotEverything(data_test,prediction,knnClassifier,'K-neighbors', obs, enemy)\n"
   ]
  },
  {
   "cell_type": "code",
   "execution_count": null,
   "metadata": {},
   "outputs": [],
   "source": [
    "from sklearn.ensemble import RandomForestClassifier\n",
    "from sklearn.datasets import make_classification\n",
    "\n",
    "#choice = np.random.choice(len(data_test))\n",
    "#obs = data_test[choice]\n",
    "\n",
    "rfClassifier = RandomForestClassifier(max_depth=4, random_state=0)\n",
    "rfClassifier.fit(data_train, labels_train)\n",
    "prediction = rfClassifier.predict(data_test)\n",
    "enemy = GrowingSpheres(rfClassifier, obs, 0.1, 20,2)\n",
    "plotEverything(data_test,prediction,rfClassifier,'Random Forest', obs, enemy)"
   ]
  },
  {
   "cell_type": "code",
   "execution_count": null,
   "metadata": {},
   "outputs": [],
   "source": [
    "# SVM varier n\n",
    "#choice = np.random.choice(len(data_test))\n",
    "#obs = data_test[choice]\n",
    "from sklearn import svm\n",
    "\n",
    "svmClassifier = svm.SVC()\n",
    "svmClassifier.fit(data_train, labels_train)\n",
    "prediction = svmClassifier.predict(data_test)\n",
    "n_values = np.linspace(2, 50, num=10, dtype=int)\n",
    "for n in n_values:\n",
    "    enemy = GrowingSpheres(svmClassifier, obs, 0.1, n, 2)\n",
    "    plotEverything(data_test,prediction,svmClassifier,'SVM n:'+str(n), obs, enemy)"
   ]
  },
  {
   "cell_type": "code",
   "execution_count": null,
   "metadata": {},
   "outputs": [],
   "source": [
    "# SVM varier m\n",
    "#choice = np.random.choice(len(data_test))\n",
    "#obs = data_test[choice]\n",
    "\n",
    "svmClassifier = svm.SVC()\n",
    "svmClassifier.fit(data_train, labels_train)\n",
    "prediction = svmClassifier.predict(data_test)\n",
    "m_values = np.linspace(0.1,2, num=10)\n",
    "for m in m_values:\n",
    "    enemy = GrowingSpheres(svmClassifier, obs, m, 20, 2)\n",
    "    plotEverything(data_test,prediction,svmClassifier,'SVM m:'+str(m), obs, enemy)"
   ]
  },
  {
   "cell_type": "markdown",
   "metadata": {},
   "source": [
    "### Breast Cancer Winsconsin"
   ]
  },
  {
   "cell_type": "code",
   "execution_count": null,
   "metadata": {},
   "outputs": [],
   "source": [
    "from sklearn.model_selection import train_test_split\n",
    "from sklearn import datasets\n",
    "from sklearn import svm\n",
    "breast_cancer = datasets.load_breast_cancer()\n",
    "\n",
    "X_train, X_test, y_train, y_test = train_test_split(breast_cancer['data'], breast_cancer['target'], train_size=0.75, random_state = 1234)\n"
   ]
  },
  {
   "cell_type": "code",
   "execution_count": null,
   "metadata": {},
   "outputs": [],
   "source": [
    "\n",
    "obs = X_test[0]\n",
    "svmClassifier = svm.SVC()\n",
    "svmClassifier.fit(X_train, y_train)\n",
    "prediction = svmClassifier.predict(X_test)\n"
   ]
  },
  {
   "cell_type": "code",
   "execution_count": null,
   "metadata": {},
   "outputs": [],
   "source": [
    "from tqdm import tqdm\n",
    "dist = np.zeros_like(obs)\n",
    "best_norm = np.Inf\n",
    "for i in tqdm(range(20)):\n",
    "    enemy = GrowingSpheres(svmClassifier, obs, 0.5, 50, 30)\n",
    "    dist += obs - enemy\n",
    "    norm = np.linalg.norm(obs - enemy)\n",
    "    if norm < best_norm:\n",
    "        best_norm = norm\n",
    "        best_enemy = enemy\n",
    "dist = dist / 20"
   ]
  },
  {
   "cell_type": "code",
   "execution_count": null,
   "metadata": {},
   "outputs": [],
   "source": [
    "print(dist)\n",
    "obsprediction = svmClassifier.predict(obs.reshape(1, -1))\n",
    "enemyprediction = svmClassifier.predict(best_enemy.reshape(1, -1))\n",
    "feature_names = breast_cancer['feature_names']\n",
    "target_names = breast_cancer['target_names']\n",
    "print(feature_names)\n",
    "print(target_names)\n",
    "\n",
    "ind = np.arange(len(obs))\n",
    "\n",
    "\n",
    "def ylabeldata(ind, data, labels, title):\n",
    "    fig, ax = plt.subplots()\n",
    "    p1 = ax.barh(ind, data, label='Men')\n",
    "    ax.set_title(title)\n",
    "    ax.set_yticks(ind, labels=labels)"
   ]
  },
  {
   "cell_type": "code",
   "execution_count": null,
   "metadata": {},
   "outputs": [],
   "source": [
    "\n",
    "ylabeldata(ind, obs, feature_names, \"Observation, class = \" + str(target_names[obsprediction]))"
   ]
  },
  {
   "cell_type": "code",
   "execution_count": null,
   "metadata": {},
   "outputs": [],
   "source": [
    "dist1 = obs - best_enemy\n",
    "ylabeldata(ind, np.abs(dist1), feature_names, \"Distance conterfactual - observation\")"
   ]
  },
  {
   "cell_type": "code",
   "execution_count": null,
   "metadata": {},
   "outputs": [],
   "source": [
    "ylabeldata(ind,  np.abs(dist), feature_names, \"Mean distances (all CF)\")"
   ]
  },
  {
   "cell_type": "code",
   "execution_count": null,
   "metadata": {},
   "outputs": [],
   "source": [
    "ylabeldata(ind, best_enemy, feature_names, \"best conterfactual, class = \" + str(target_names[enemyprediction]))"
   ]
  }
 ],
 "metadata": {
  "kernelspec": {
   "display_name": "Python 3 (ipykernel)",
   "language": "python",
   "name": "python3"
  },
  "language_info": {
   "codemirror_mode": {
    "name": "ipython",
    "version": 3
   },
   "file_extension": ".py",
   "mimetype": "text/x-python",
   "name": "python",
   "nbconvert_exporter": "python",
   "pygments_lexer": "ipython3",
   "version": "3.10.6"
  },
  "vscode": {
   "interpreter": {
    "hash": "916dbcbb3f70747c44a77c7bcd40155683ae19c65e1c03b4aa3499c5328201f1"
   }
  }
 },
 "nbformat": 4,
 "nbformat_minor": 2
}

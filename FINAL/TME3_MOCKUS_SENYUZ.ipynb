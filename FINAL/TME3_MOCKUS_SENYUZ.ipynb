{
 "cells": [
  {
   "cell_type": "code",
   "execution_count": 10,
   "id": "77dc5a1e",
   "metadata": {},
   "outputs": [],
   "source": [
    "import numpy as np\n",
    "from sklearn import datasets\n",
    "import matplotlib.pyplot as plt\n",
    "import pandas as pd\n",
    "import dice_ml\n",
    "import torch\n",
    "from torch.autograd import Variable\n",
    "from sklearn.model_selection import train_test_split\n",
    "import torch.nn.functional as F\n",
    "from tqdm import tqdm\n"
   ]
  },
  {
   "cell_type": "code",
   "execution_count": 11,
   "id": "798cbc99",
   "metadata": {},
   "outputs": [],
   "source": [
    "data, labels = datasets.make_moons(n_samples=1000, shuffle=True, noise=0.2, random_state=None)\n",
    "dic = {'x':data[:,0], 'y' : data[:,1], 'target': labels}\n",
    "df = pd.DataFrame(data = dic)\n"
   ]
  },
  {
   "cell_type": "code",
   "execution_count": 12,
   "id": "a40d34e0",
   "metadata": {},
   "outputs": [],
   "source": [
    "data_dice = dice_ml.Data(dataframe=df, continuous_features=['x','y'], outcome_name='target')"
   ]
  },
  {
   "cell_type": "code",
   "execution_count": 13,
   "id": "09e83d9b",
   "metadata": {},
   "outputs": [],
   "source": [
    "X = df[['x','y']].values\n",
    "y = df[['target']].values\n",
    "x_train, x_test, y_train, y_test = train_test_split(X, y, test_size=0.33, random_state=42)\n",
    "dic_train = {'x':x_train[:,0], 'y' : x_train[:,1], 'target': y_train.flatten()}\n",
    "df_train = pd.DataFrame(data = dic_train)\n",
    "dic_test = {'x':x_test[:,0], 'y' : x_test[:,1], 'target': y_test.flatten()}\n",
    "df_test = pd.DataFrame(data = dic_test)\n",
    "data_dice_test = dice_ml.Data(dataframe=df_test, continuous_features=['x','y'], outcome_name='target')"
   ]
  },
  {
   "cell_type": "code",
   "execution_count": 14,
   "id": "f2954f4c",
   "metadata": {},
   "outputs": [],
   "source": [
    "def plot_decision_boundary(pred_func,X,y,title, obs, enemy):\n",
    "    x_min, x_max = X[:, 0].min() - .5, X[:, 0].max() + .5\n",
    "    y_min, y_max = X[:, 1].min() - .5, X[:, 1].max() + .5\n",
    "    # Set min and max values and give it some padding\n",
    "    h = 0.01\n",
    "    # Generate a grid of points with distance h between them\n",
    "    xx,yy=np.meshgrid(np.arange(x_min, x_max, h), np.arange(y_min, y_max, h))\n",
    "    # Predict the function value for the whole gid\n",
    "    Z = pred_func(np.c_[xx.ravel(), yy.ravel()])\n",
    "    Z = Z.reshape(xx.shape)\n",
    "    # Plot the contour and training examples\n",
    "    plt.contourf(xx, yy, Z, cmap=plt.cm.Spectral)\n",
    "    plt.scatter(X[:, 0], X[:, 1], c=y, cmap=plt.cm.binary)\n",
    "    plt.scatter(obs[0], obs[1], c = 'lime',marker= 'x')\n",
    "    plt.scatter(enemy.T[0], enemy.T[1], c = 'red', marker = 'o')\n",
    "    plt.title(title)\n",
    "    plt.show()"
   ]
  },
  {
   "cell_type": "code",
   "execution_count": 15,
   "id": "c90cd30e",
   "metadata": {},
   "outputs": [],
   "source": [
    "def grad(x_train, y_train, model, critetion, epochs=100, learning_rate=0.01):\n",
    "    #print(x_train)\n",
    "    #print(y_train)\n",
    "    optimizer = torch.optim.Adam(model.parameters(), lr=learning_rate)  \n",
    "    for epoch in range(epochs):\n",
    "        # Converting inputs and labels to Variable\n",
    "        if torch.cuda.is_available():\n",
    "            inputs = Variable(torch.from_numpy(x_train.astype(np.float32)).cuda())\n",
    "            labels = Variable(torch.from_numpy(y_train.astype(np.float32)).cuda())\n",
    "        else:\n",
    "            inputs = Variable(torch.from_numpy(x_train.astype(np.float32)))\n",
    "            labels = Variable(torch.from_numpy(y_train.astype(np.float32)))\n",
    "\n",
    "        # Clear gradient buffers because we don't want any gradient from previous epoch to carry forward, dont want to cummulate gradients\n",
    "        optimizer.zero_grad()\n",
    "        # get output from the model, given the inputs\n",
    "        outputs = model(inputs)\n",
    "        # geloss for the predicted output\n",
    "        #print(outputs)\n",
    "        loss = criterion(outputs, labels)\n",
    "        # get gradients w.r.t to parameters\n",
    "        loss.backward()\n",
    "        # update parameters\n",
    "        optimizer.step()\n",
    "\n",
    "def predict(x, model):\n",
    "    #Convert into numpy element to tensor\n",
    "    x = torch.from_numpy(x).type(torch.FloatTensor)\n",
    "    #Predict and return ans\n",
    "    ans = model.predict(x)\n",
    "    return ans.numpy()"
   ]
  },
  {
   "cell_type": "code",
   "execution_count": 16,
   "id": "66e63fca",
   "metadata": {},
   "outputs": [],
   "source": [
    "class linearRegression(torch.nn.Module):\n",
    "    def __init__(self, inputSize, outputSize):\n",
    "        super(linearRegression, self).__init__()\n",
    "        self.linear = torch.nn.Linear(inputSize, outputSize)\n",
    "        self.activation = torch.nn.ReLU()\n",
    "        \n",
    "\n",
    "    def forward(self, x):\n",
    "        #out = self.linear(x)\n",
    "        out = self.activation(self.linear(x))\n",
    "        return out\n",
    "    \n",
    "    #This function takes an input and predicts the class, (0 or 1)        \n",
    "    def predict(self,x):\n",
    "        #Apply softmax to output. \n",
    "        pred = self.forward(x)\n",
    "        ans = []\n",
    "        #Pick the class with maximum weight\n",
    "        for t in pred:\n",
    "            if t[0]>0.5:\n",
    "                ans.append(0)\n",
    "            else:\n",
    "                ans.append(1)\n",
    "        return torch.tensor(ans)"
   ]
  },
  {
   "cell_type": "code",
   "execution_count": 17,
   "id": "767cbf1d",
   "metadata": {},
   "outputs": [],
   "source": [
    "class res2D(torch.nn.Module):\n",
    "    def __init__(self, inputSize, hiddenSize,outputSize):\n",
    "        super().__init__()\n",
    "        self.linear1 = torch.nn.Linear(inputSize, hiddenSize)\n",
    "        self.activation1 = torch.nn.ReLU()\n",
    "        self.linear2 = torch.nn.Linear(hiddenSize, outputSize)\n",
    "        self.activation2 = torch.nn.Sigmoid()        \n",
    "\n",
    "    def forward(self, x):\n",
    "        out = self.activation2(self.linear2(self.activation1(self.linear1(x))))\n",
    "        return out\n",
    "    \n",
    "    #This function takes an input and predicts the class, (0 or 1)        \n",
    "    def predict(self,x):\n",
    "        #Apply softmax to output. \n",
    "        pred = self.forward(x)\n",
    "        ans = []\n",
    "        #Pick the class with maximum weight\n",
    "        for t in pred:\n",
    "            if t[0]>0.5:\n",
    "                ans.append(0)\n",
    "            else:\n",
    "                ans.append(1)\n",
    "        return torch.tensor(ans)"
   ]
  },
  {
   "cell_type": "code",
   "execution_count": 18,
   "id": "cd09bcfc",
   "metadata": {},
   "outputs": [
    {
     "name": "stderr",
     "output_type": "stream",
     "text": [
      "/home/manuel/.local/lib/python3.10/site-packages/dice_ml/data_interfaces/public_data_interface.py:582: FutureWarning: The frame.append method is deprecated and will be removed from pandas in a future version. Use pandas.concat instead.\n",
      "  temp = self.ohe_base_df.append(query_instance, ignore_index=True, sort=False)\n"
     ]
    },
    {
     "name": "stdout",
     "output_type": "stream",
     "text": [
      "No Counterfactuals found for the given configuation,  perhaps try with different values of proximity (or diversity) weights or learning rate... ; total time taken: 00 min 09 sec\n",
      "Query instance (original outcome : 0)\n"
     ]
    },
    {
     "name": "stderr",
     "output_type": "stream",
     "text": [
      "/home/manuel/.local/lib/python3.10/site-packages/dice_ml/data_interfaces/public_data_interface.py:582: FutureWarning: The frame.append method is deprecated and will be removed from pandas in a future version. Use pandas.concat instead.\n",
      "  temp = self.ohe_base_df.append(query_instance, ignore_index=True, sort=False)\n",
      "/home/manuel/.local/lib/python3.10/site-packages/dice_ml/data_interfaces/public_data_interface.py:582: FutureWarning: The frame.append method is deprecated and will be removed from pandas in a future version. Use pandas.concat instead.\n",
      "  temp = self.ohe_base_df.append(query_instance, ignore_index=True, sort=False)\n"
     ]
    },
    {
     "data": {
      "text/html": [
       "<div>\n",
       "<style scoped>\n",
       "    .dataframe tbody tr th:only-of-type {\n",
       "        vertical-align: middle;\n",
       "    }\n",
       "\n",
       "    .dataframe tbody tr th {\n",
       "        vertical-align: top;\n",
       "    }\n",
       "\n",
       "    .dataframe thead th {\n",
       "        text-align: right;\n",
       "    }\n",
       "</style>\n",
       "<table border=\"1\" class=\"dataframe\">\n",
       "  <thead>\n",
       "    <tr style=\"text-align: right;\">\n",
       "      <th></th>\n",
       "      <th>x</th>\n",
       "      <th>y</th>\n",
       "      <th>target</th>\n",
       "    </tr>\n",
       "  </thead>\n",
       "  <tbody>\n",
       "    <tr>\n",
       "      <th>0</th>\n",
       "      <td>0.639692</td>\n",
       "      <td>-0.236087</td>\n",
       "      <td>0.0</td>\n",
       "    </tr>\n",
       "  </tbody>\n",
       "</table>\n",
       "</div>"
      ],
      "text/plain": [
       "          x         y  target\n",
       "0  0.639692 -0.236087     0.0"
      ]
     },
     "metadata": {},
     "output_type": "display_data"
    },
    {
     "name": "stdout",
     "output_type": "stream",
     "text": [
      "\n",
      "No counterfactuals found!\n"
     ]
    },
    {
     "ename": "IndexError",
     "evalue": "index 0 is out of bounds for axis 0 with size 0",
     "output_type": "error",
     "traceback": [
      "\u001b[0;31m---------------------------------------------------------------------------\u001b[0m",
      "\u001b[0;31mIndexError\u001b[0m                                Traceback (most recent call last)",
      "Cell \u001b[0;32mIn [18], line 12\u001b[0m\n\u001b[1;32m      9\u001b[0m counterfactuals \u001b[38;5;241m=\u001b[39m explainer\u001b[38;5;241m.\u001b[39mgenerate_counterfactuals(\n\u001b[1;32m     10\u001b[0m                     query_instance\u001b[38;5;241m=\u001b[39mquery_instance,total_CFs\u001b[38;5;241m=\u001b[39m\u001b[38;5;241m1\u001b[39m, proximity_weight\u001b[38;5;241m=\u001b[39m\u001b[38;5;241m0.9\u001b[39m,desired_class\u001b[38;5;241m=\u001b[39m\u001b[38;5;124m'\u001b[39m\u001b[38;5;124mopposite\u001b[39m\u001b[38;5;124m'\u001b[39m)\n\u001b[1;32m     11\u001b[0m counterfactuals\u001b[38;5;241m.\u001b[39mvisualize_as_dataframe()\n\u001b[0;32m---> 12\u001b[0m plot_decision_boundary(\u001b[38;5;28;01mlambda\u001b[39;00m x : predict(x,model), x_test, y_test\u001b[38;5;241m.\u001b[39mflatten(), \u001b[38;5;124m\"\u001b[39m\u001b[38;5;124m\"\u001b[39m,x_test[index], \u001b[43mcounterfactuals\u001b[49m\u001b[38;5;241;43m.\u001b[39;49m\u001b[43mcf_examples_list\u001b[49m\u001b[43m[\u001b[49m\u001b[38;5;241;43m0\u001b[39;49m\u001b[43m]\u001b[49m\u001b[38;5;241;43m.\u001b[39;49m\u001b[43mfinal_cfs_df\u001b[49m\u001b[38;5;241;43m.\u001b[39;49m\u001b[43mvalues\u001b[49m\u001b[43m[\u001b[49m\u001b[38;5;241;43m0\u001b[39;49m\u001b[43m]\u001b[49m[:\u001b[38;5;241m2\u001b[39m] )\n",
      "\u001b[0;31mIndexError\u001b[0m: index 0 is out of bounds for axis 0 with size 0"
     ]
    }
   ],
   "source": [
    "model = linearRegression(2,1)\n",
    "criterion = torch.nn.MSELoss()\n",
    "\n",
    "grad(x_train, y_train, model, criterion)\n",
    "model_dice = dice_ml.Model(model=model, backend='PYT')\n",
    "explainer = dice_ml.Dice(data_dice, model_dice)\n",
    "index=67\n",
    "query_instance = dict(zip(['x','y'], x_test[index]))\n",
    "counterfactuals = explainer.generate_counterfactuals(\n",
    "                    query_instance=query_instance,total_CFs=1, proximity_weight=0.9,desired_class='opposite')\n",
    "counterfactuals.visualize_as_dataframe()\n",
    "plot_decision_boundary(lambda x : predict(x,model), x_test, y_test.flatten(), \"\",x_test[index], counterfactuals.cf_examples_list[0].final_cfs_df.values[0][:2] )"
   ]
  },
  {
   "cell_type": "code",
   "execution_count": null,
   "id": "24e1858f",
   "metadata": {},
   "outputs": [],
   "source": [
    "model = res2D(2,20,1)\n",
    "criterion = torch.nn.BCELoss()\n",
    "\n",
    "grad(x_train, y_train, model, criterion, epochs=1000)\n",
    "model_dice = dice_ml.Model(model=model, backend='PYT')\n",
    "explainer = dice_ml.Dice(data_dice, model_dice)\n",
    "index=67\n",
    "query_instance = dict(zip(['x','y'], x_test[index]))\n",
    "counterfactuals = explainer.generate_counterfactuals(\n",
    "                    query_instance=query_instance,total_CFs=1, desired_class='opposite')\n",
    "counterfactuals.visualize_as_dataframe()\n",
    "plot_decision_boundary(lambda x : predict(x,model), x_test, y_test.flatten(), \"\",x_test[index], counterfactuals.cf_examples_list[0].final_cfs_df.values[0][:2] )"
   ]
  },
  {
   "cell_type": "code",
   "execution_count": null,
   "id": "5bc02a0f",
   "metadata": {},
   "outputs": [],
   "source": [
    "model = linearRegression(2,1)\n",
    "criterion = torch.nn.MSELoss()\n",
    "\n",
    "grad(x_train, y_train, model, criterion)\n",
    "model_dice = dice_ml.Model(model=model, backend='PYT')\n",
    "explainer = dice_ml.Dice(data_dice, model_dice)\n",
    "index=74\n",
    "query_instance = dict(zip(['x','y'], x_test[index]))\n",
    "proximity_weights = np.linspace(0.1, 10, num=15)\n",
    "pred_ori = counterfactuals.cf_examples_list[0].test_pred\n",
    "for proximity_weight in tqdm(proximity_weights):\n",
    "    counterfactuals = explainer.generate_counterfactuals(\n",
    "                        query_instance=query_instance,total_CFs=1, proximity_weight=proximity_weight,desired_class='opposite')\n",
    "    print(proximity_weight)\n",
    "    \n",
    "    counterfactuals.visualize_as_dataframe()\n",
    "    if len(counterfactuals.cf_examples_list[0].final_cfs_df.values) >0 :\n",
    "        plot_decision_boundary(lambda x : predict(x,model), x_test, y_test.flatten(), \"Proximity_weight\"+str(proximity_weight),x_test[index], counterfactuals.cf_examples_list[0].final_cfs_df.values[0][:2] )"
   ]
  },
  {
   "cell_type": "code",
   "execution_count": null,
   "id": "ab12dcc9",
   "metadata": {},
   "outputs": [],
   "source": [
    "model = linearRegression(2,1)\n",
    "criterion = torch.nn.MSELoss()\n",
    "\n",
    "grad(x_train, y_train, model, criterion)\n",
    "model_dice = dice_ml.Model(model=model, backend='PYT')\n",
    "explainer = dice_ml.Dice(data_dice, model_dice)\n",
    "index=66\n",
    "query_instance = dict(zip(['x','y'], x_test[index]))\n",
    "proximity_weights = np.linspace(0.1, 8, num=15)\n",
    "pred_ori = counterfactuals.cf_examples_list[0].test_pred\n",
    "for proximity_weight in tqdm(proximity_weights):\n",
    "    counterfactuals = explainer.generate_counterfactuals(\n",
    "                        query_instance=query_instance,total_CFs=1, proximity_weight=proximity_weight,desired_class='opposite')\n",
    "    print(proximity_weight)\n",
    "    \n",
    "    counterfactuals.visualize_as_dataframe()\n",
    "    if len(counterfactuals.cf_examples_list[0].final_cfs_df.values) >0 :\n",
    "        plot_decision_boundary(lambda x : predict(x,model), x_test, y_test.flatten(), \"Proximity_weight\"+str(proximity_weight),x_test[index], counterfactuals.cf_examples_list[0].final_cfs_df.values[0][:2] )"
   ]
  },
  {
   "cell_type": "code",
   "execution_count": null,
   "id": "c93c2881",
   "metadata": {},
   "outputs": [],
   "source": [
    "model = linearRegression(2,1)\n",
    "criterion = torch.nn.MSELoss()\n",
    "\n",
    "grad(x_train, y_train, model, criterion)\n",
    "model_dice = dice_ml.Model(model=model, backend='PYT')\n",
    "explainer = dice_ml.Dice(data_dice, model_dice)\n",
    "index=74\n",
    "query_instance = dict(zip(['x','y'], x_test[index]))\n",
    "diversity_weights = np.linspace(0.1, 10, num=15)\n",
    "pred_ori = counterfactuals.cf_examples_list[0].test_pred\n",
    "for diversity_weight in tqdm(diversity_weights):\n",
    "    counterfactuals = explainer.generate_counterfactuals(query_instance=query_instance,total_CFs=1, diversity_weight=diversity_weight,desired_class='opposite')\n",
    "    print(diversity_weight)\n",
    "    \n",
    "    counterfactuals.visualize_as_dataframe()\n",
    "    if len(counterfactuals.cf_examples_list[0].final_cfs_df.values) >0 :\n",
    "        plot_decision_boundary(lambda x : predict(x,model), x_test, y_test.flatten(), \"diversity weight \"+str(diversity_weight),x_test[index], counterfactuals.cf_examples_list[0].final_cfs_df.values[0][:2] )"
   ]
  },
  {
   "cell_type": "code",
   "execution_count": null,
   "id": "1605f6cd",
   "metadata": {},
   "outputs": [],
   "source": [
    "from sklearn.model_selection import train_test_split\n",
    "from sklearn import datasets\n",
    "breast_cancer = datasets.load_breast_cancer(as_frame= True)\n",
    "\n",
    "\n",
    "\n",
    "data = breast_cancer['data']\n",
    "target = breast_cancer['target']\n",
    "\n",
    "feature_names = breast_cancer['feature_names']\n",
    "target_names = breast_cancer['target_names']\n",
    "\n",
    "X_train, X_test, y_train, y_test = train_test_split(data, target, train_size=0.75, random_state = 1234)"
   ]
  },
  {
   "cell_type": "code",
   "execution_count": null,
   "id": "18b2b5c3",
   "metadata": {},
   "outputs": [],
   "source": [
    "import dice_ml\n",
    "data['target'] = target\n",
    "data_dice = dice_ml.Data(dataframe=data, continuous_features = list(feature_names), outcome_name='target')"
   ]
  },
  {
   "cell_type": "code",
   "execution_count": null,
   "id": "46012841",
   "metadata": {},
   "outputs": [],
   "source": [
    "from sklearn.ensemble import RandomForestClassifier\n",
    "obs2 = X_test.iloc[[0]]\n",
    "\n",
    "rfClassifier = RandomForestClassifier()\n",
    "fittedRF = rfClassifier.fit(X_train, y_train)\n",
    "prediction = rfClassifier.predict(X_test)\n",
    "# Using sklearn backend\n",
    "m = dice_ml.Model(model= fittedRF, backend=\"sklearn\")\n",
    "# Using method=random for generating CFs\n",
    "exp = dice_ml.Dice(data_dice, m, method= 'random')\n"
   ]
  },
  {
   "cell_type": "code",
   "execution_count": null,
   "id": "aa5f751b",
   "metadata": {},
   "outputs": [],
   "source": [
    "counterfactuals = exp.generate_counterfactuals(\n",
    "                    query_instances=obs2, total_CFs=20, proximity_weight=0.1,desired_class='opposite')\n",
    "counterfactuals.visualize_as_dataframe()"
   ]
  },
  {
   "cell_type": "code",
   "execution_count": null,
   "id": "82c645c1",
   "metadata": {},
   "outputs": [],
   "source": [
    "\n",
    "\n",
    "def calc_distances(cfs, obs):\n",
    "    cfmatrix = cfs.cf_examples_list[0].final_cfs_df.values[:,:-1]\n",
    "    N = len(cfmatrix)\n",
    "    print(N)\n",
    "    dist = np.zeros_like(obs)\n",
    "    best_norm = np.inf\n",
    "    for cf in cfmatrix:\n",
    "        dist = ((obs - cf )/ N)\n",
    "        print(dist)\n",
    "        norm = np.linalg.norm( obs - cf)\n",
    "        if norm < best_norm:\n",
    "            best_norm = norm\n",
    "            best_enemy = cf\n",
    "    return best_enemy, dist"
   ]
  },
  {
   "cell_type": "code",
   "execution_count": null,
   "id": "72fce92e",
   "metadata": {},
   "outputs": [],
   "source": [
    "counterfactuals.cf_examples_list[0].final_cfs_df.drop(\"target\", axis = 1)\n",
    "best, distCF = calc_distances(counterfactuals, obs2.values)\n"
   ]
  },
  {
   "cell_type": "code",
   "execution_count": null,
   "id": "2acd0ac4",
   "metadata": {},
   "outputs": [],
   "source": [
    "obsclass = y_test.iloc[[choice]].values[0]\n",
    "print(obs2.values)"
   ]
  },
  {
   "cell_type": "code",
   "execution_count": null,
   "id": "32c927d3",
   "metadata": {},
   "outputs": [],
   "source": [
    "\n",
    "ylabeldata(ind, obs2.values[0], feature_names, \"Observation, class = \" + str(target_names[obsclass]))"
   ]
  },
  {
   "cell_type": "code",
   "execution_count": null,
   "id": "a3c1f1ee",
   "metadata": {},
   "outputs": [],
   "source": [
    "predenem = fittedRF.predict(best.reshape(1, -1))\n",
    "print(predenem)\n",
    "ylabeldata(ind, best, feature_names, \"Best Counterfactual, class = \" + str(target_names[predenem]))"
   ]
  },
  {
   "cell_type": "code",
   "execution_count": null,
   "id": "a2998f29",
   "metadata": {},
   "outputs": [],
   "source": [
    "print(distCF)"
   ]
  },
  {
   "cell_type": "code",
   "execution_count": null,
   "id": "d74d9826",
   "metadata": {},
   "outputs": [],
   "source": [
    "ylabeldata(ind, np.abs(distCF[0]/20), feature_names, \"Mean distances to counterfactuals\")"
   ]
  },
  {
   "cell_type": "code",
   "execution_count": null,
   "id": "ad099419",
   "metadata": {},
   "outputs": [],
   "source": [
    "ylabeldata(ind, np.abs(obs2.values[0]- best), feature_names, \"Distance Observation - counterfactual\")"
   ]
  }
 ],
 "metadata": {
  "kernelspec": {
   "display_name": "Python 3.10.6 64-bit",
   "language": "python",
   "name": "python3"
  },
  "language_info": {
   "codemirror_mode": {
    "name": "ipython",
    "version": 3
   },
   "file_extension": ".py",
   "mimetype": "text/x-python",
   "name": "python",
   "nbconvert_exporter": "python",
   "pygments_lexer": "ipython3",
   "version": "3.10.6"
  },
  "vscode": {
   "interpreter": {
    "hash": "916dbcbb3f70747c44a77c7bcd40155683ae19c65e1c03b4aa3499c5328201f1"
   }
  }
 },
 "nbformat": 4,
 "nbformat_minor": 5
}

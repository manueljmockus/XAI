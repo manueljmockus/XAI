{
 "cells": [
  {
   "cell_type": "code",
   "execution_count": 53,
   "metadata": {},
   "outputs": [],
   "source": [
    "from sklearn.model_selection import train_test_split\n",
    "from sklearn import datasets\n",
    "from sklearn import tree\n",
    "from sklearn.tree import DecisionTreeClassifier\n",
    "import numpy as np"
   ]
  },
  {
   "cell_type": "code",
   "execution_count": 5,
   "metadata": {},
   "outputs": [],
   "source": [
    "\n",
    "breast_cancer = datasets.load_breast_cancer(as_frame= True)\n",
    "\n",
    "data = breast_cancer['data']\n",
    "target = breast_cancer['target']\n",
    "\n",
    "X_train, X_test, y_train, y_test = train_test_split(breast_cancer['data'], breast_cancer['target'], train_size=0.75, random_state = 1234)"
   ]
  },
  {
   "cell_type": "code",
   "execution_count": 15,
   "metadata": {},
   "outputs": [],
   "source": [
    "feature_names = breast_cancer['feature_names']\n",
    "target_names = breast_cancer['target_names']"
   ]
  },
  {
   "cell_type": "code",
   "execution_count": 68,
   "metadata": {},
   "outputs": [
    {
     "name": "stdout",
     "output_type": "stream",
     "text": [
      "<sklearn.tree._tree.Tree object at 0x7f9cc011d6f0>\n"
     ]
    }
   ],
   "source": [
    "clf = DecisionTreeClassifier()\n",
    "clf.fit(X_train, y_train)\n",
    "arbre = clf.tree_\n",
    "print(arbre)"
   ]
  },
  {
   "cell_type": "code",
   "execution_count": 20,
   "metadata": {},
   "outputs": [],
   "source": [
    "import graphviz \n",
    "tree.export_graphviz(clf, feature_names=feature_names, class_names=target_names, out_file = 'tree.dot')"
   ]
  },
  {
   "cell_type": "code",
   "execution_count": 43,
   "metadata": {},
   "outputs": [
    {
     "name": "stdout",
     "output_type": "stream",
     "text": [
      "  (0, 0)\t1\n",
      "  (0, 22)\t1\n",
      "  (0, 28)\t1\n",
      "  (0, 32)\t1\n"
     ]
    }
   ],
   "source": [
    "path = clf.decision_path(X_test.iloc[[100]])\n",
    "print(path)"
   ]
  },
  {
   "cell_type": "code",
   "execution_count": 81,
   "metadata": {},
   "outputs": [
    {
     "name": "stdout",
     "output_type": "stream",
     "text": [
      "  (0, 0)\t1\n",
      "  (0, 1)\t1\n",
      "  (0, 2)\t1\n",
      "  (0, 4)\t1\n",
      "  (0, 5)\t1\n",
      "  (0, 6)\t1\n",
      "  (0, 7)\t1\n"
     ]
    }
   ],
   "source": [
    "path = clf.decision_path(X_test.iloc[[0]])\n",
    "print(path)"
   ]
  },
  {
   "cell_type": "markdown",
   "metadata": {},
   "source": []
  },
  {
   "cell_type": "code",
   "execution_count": 58,
   "metadata": {},
   "outputs": [
    {
     "name": "stdout",
     "output_type": "stream",
     "text": [
      "[[1.167e+01 2.002e+01 7.521e+01 ... 8.120e-02 3.206e-01 8.950e-02]\n",
      " [1.080e+01 9.710e+00 6.877e+01 ... 4.603e-02 2.090e-01 7.699e-02]\n",
      " [1.245e+01 1.641e+01 8.285e+01 ... 1.342e-01 3.231e-01 1.034e-01]\n",
      " ...\n",
      " [9.720e+00 1.822e+01 6.073e+01 ... 0.000e+00 1.909e-01 6.559e-02]\n",
      " [2.329e+01 2.667e+01 1.589e+02 ... 2.733e-01 3.198e-01 8.762e-02]\n",
      " [1.398e+01 1.962e+01 9.112e+01 ... 1.827e-01 3.179e-01 1.055e-01]]\n",
      "Rules used to predict sample 100:\n",
      "\n",
      "decision node 0 : (X_test[100, mean concave points] = 0.1265) > 0.051419999450445175)\n",
      "decision node 22 : (X_test[100, worst perimeter] = 160.0) > 103.25)\n",
      "decision node 28 : (X_test[100, worst texture] = 33.81) > 20.875)\n"
     ]
    }
   ],
   "source": [
    "n_nodes = clf.tree_.node_count\n",
    "children_left = clf.tree_.children_left\n",
    "children_right = clf.tree_.children_right\n",
    "feature = clf.tree_.feature\n",
    "threshold = clf.tree_.threshold\n",
    "\n",
    "X_test_vals = X_test.values\n",
    "print(X_test_vals)\n",
    "node_indicator = clf.decision_path(X_test)\n",
    "leaf_id = clf.apply(X_test)\n",
    "\n",
    "sample_id = 100\n",
    "# obtain ids of the nodes `sample_id` goes through, i.e., row `sample_id`\n",
    "node_index = node_indicator.indices[\n",
    "    node_indicator.indptr[sample_id] : node_indicator.indptr[sample_id + 1]\n",
    "]\n",
    "\n",
    "print(\"Rules used to predict sample {id}:\\n\".format(id=sample_id))\n",
    "for node_id in node_index:\n",
    "    # continue to the next node if it is a leaf node\n",
    "    if leaf_id[sample_id] == node_id:\n",
    "        continue\n",
    "\n",
    "    # check if value of the split feature for sample 0 is below threshold\n",
    "    if X_test_vals[sample_id, feature[node_id]] <= threshold[node_id]:\n",
    "        threshold_sign = \"<=\"\n",
    "    else:\n",
    "        threshold_sign = \">\"\n",
    "\n",
    "    print(\n",
    "        \"decision node {node} : (X_test[{sample}, {feature}] = {value}) \"\n",
    "        \"{inequality} {threshold})\".format(\n",
    "            node=node_id,\n",
    "            sample=sample_id,\n",
    "            feature=feature_names[feature[node_id]],\n",
    "            value=X_test_vals[sample_id, feature[node_id]],\n",
    "            inequality=threshold_sign,\n",
    "            threshold=threshold[node_id],\n",
    "        )\n",
    "    )"
   ]
  },
  {
   "cell_type": "code",
   "execution_count": null,
   "metadata": {},
   "outputs": [],
   "source": []
  },
  {
   "cell_type": "code",
   "execution_count": 83,
   "metadata": {},
   "outputs": [
    {
     "name": "stdout",
     "output_type": "stream",
     "text": [
      "[1 0 1 0 1 0 0 1 1 0 1 1 0 1 0 0 1 1 1 0 1 1 0 1 1 1 1 0 1 1 0 0 1 1 1 1 0\n",
      " 1 1 1 0 1 0 1 1 1 1 0 1 1 0 0 1 0 0 1 1 1 1 1 0 1 1 0 1 1 1 1 0 1 1 1 1 1\n",
      " 1 0 1 1 1 0 0 1 0 1 0 1 1 1 1 1 1 0 1 0 1 1 1 0 0 0 1 1 1 1 1 1 1 0 1 1 1\n",
      " 1 0 0 0 0 1 0 1 1 0 0 1 1 1 0 1 1 1 1 0 1 1 0 0 0 1 1 0 1 1 1 1 1 1 1 0 0\n",
      " 0 0 0 1 1 0 1 1 0 1 0 0 0 1 1 1 0 0 1 0 0 1 1 0 1 0 0 1 1 1 0 1 1 0 1 1 1\n",
      " 1 1 1 1 1 0 1 1 1 0 1 0 1 0 1 1 0 1 0 0 1 0 1 0 1 1 1 1 1 1 0 1 1 1 0 1 1\n",
      " 0 1 1 1 1 1 1 0 1 0 1 1 1 1 0 0 1 1 1 1 0 0 0 1 1 0 0 1 0 1 1 1 0 0 1 1 1\n",
      " 0 1 0 0 1 1 1 1 0 1 0 0 0 1 0 0 0 1 1 1 1 0 1 0 0 0 1 0 1 1 0 0 1 0 0 1 0\n",
      " 1 0 1 0 1 1 0 1 1 1 1 1 1 1 1 1 1 0 1 0 0 0 0 1 0 1 1 1 1 0 1 0 1 1 0 1 1\n",
      " 0 1 0 1 1 1 0 1 1 1 0 1 0 0 0 0 0 1 0 0 1 1 1 0 0 0 1 1 0 1 1 1 1 1 1 1 1\n",
      " 0 0 1 0 1 0 0 0 1 0 1 0 0 1 0 1 0 1 0 1 1 1 1 1 0 1 1 1 1 0 0 1 1 1 1 1 1\n",
      " 1 1 1 1 1 1 1 1 1 1 1 0 1 0 1 0 1 0 1]\n",
      "[ 3  9 15 18 21 27 31 32]\n",
      "[ 7 10 12 14 17 20 24 26 30]\n",
      "[22 19  4 -1 16 11  8 -1 10 -1 -1 13 -1 15 -1 -1 18 -1 -1 21 -1 -1 28 25\n",
      " -1 27 -1 -1 32 31 -1 -1 -1]\n",
      "[ 1  2  3 -1  5  6  7 -1  9 -1 -1 12 -1 14 -1 -1 17 -1 -1 20 -1 -1 23 24\n",
      " -1 26 -1 -1 29 30 -1 -1 -1]\n",
      "[ 3  7  9 10 12 14 15 17 18 20 21 24 26 27 30 31 32]\n"
     ]
    }
   ],
   "source": [
    "n_nodes = clf.tree_.node_count\n",
    "children_left = clf.tree_.children_left\n",
    "children_right = clf.tree_.children_right\n",
    "a = clf.tree_\n",
    "feature = clf.tree_.feature\n",
    "threshold = clf.tree_.threshold\n",
    "\n",
    "X_test_vals = X_test.values\n",
    "\n",
    "res = clf.predict(X_train) \n",
    "print(res)\n",
    "nodes_0 = np.unique(clf.apply(X_train)[res == 0])\n",
    "nodes_1 = np.unique(clf.apply(X_train)[res == 1])\n",
    "leaves = np.unique(clf.apply(X_train))\n",
    "print(nodes_0)\n",
    "print(nodes_1)\n",
    "print(children_right)\n",
    "print(children_left)\n",
    "print(leaves)"
   ]
  },
  {
   "cell_type": "code",
   "execution_count": 91,
   "metadata": {},
   "outputs": [
    {
     "name": "stdout",
     "output_type": "stream",
     "text": [
      "[[1.167e+01 2.002e+01 7.521e+01 ... 8.120e-02 3.206e-01 8.950e-02]\n",
      " [1.080e+01 9.710e+00 6.877e+01 ... 4.603e-02 2.090e-01 7.699e-02]\n",
      " [1.245e+01 1.641e+01 8.285e+01 ... 1.342e-01 3.231e-01 1.034e-01]\n",
      " ...\n",
      " [9.720e+00 1.822e+01 6.073e+01 ... 0.000e+00 1.909e-01 6.559e-02]\n",
      " [2.329e+01 2.667e+01 1.589e+02 ... 2.733e-01 3.198e-01 8.762e-02]\n",
      " [1.398e+01 1.962e+01 9.112e+01 ... 1.827e-01 3.179e-01 1.055e-01]]\n"
     ]
    }
   ],
   "source": [
    "n_nodes = clf.tree_.node_count\n",
    "children_left = clf.tree_.children_left\n",
    "children_right = clf.tree_.children_right\n",
    "feature = clf.tree_.feature\n",
    "threshold = clf.tree_.threshold\n",
    "\n",
    "X_test_vals = X_test.values\n",
    "print(X_test_vals)\n",
    "node_indicator = clf.decision_path(X_test)\n",
    "leaf_id = clf.apply(X_test)\n",
    "\n",
    "sample_id = 0\n",
    "# obtain ids of the nodes `sample_id` goes through, i.e., row `sample_id`\n",
    "node_index = node_indicator.indices[\n",
    "    node_indicator.indptr[sample_id] : node_indicator.indptr[sample_id + 1]\n",
    "]\n",
    "\n",
    "\n",
    "def recursive_path(current_node, class_leaves, conditions, path, leaves, current_cond, current_path):\n",
    "    print(current_node)\n",
    "    if current_node in leaves:\n",
    "        if current_node in class_leaves:\n",
    "            conditions.append(current_cond)\n",
    "            path.append(current_path)\n",
    "            current_cond = []\n",
    "            current_path = []\n",
    "            return\n",
    "        else:\n",
    "            return [],[]\n",
    "        \n",
    "    if X_test_vals[sample_id, feature[current_node]] <= threshold[current_node]:\n",
    "        threshold_sign = \"<=\"\n",
    "    else:\n",
    "        threshold_sign = \">\"\n",
    "\n",
    "    cond =  \"decision node {node} : (X_test[{sample}, {feature}] = {value}) {inequality} {threshold})\".format(\n",
    "            node=current_node,\n",
    "            sample=sample_id,\n",
    "            feature=feature_names[feature[current_node]],\n",
    "            value=X_test_vals[sample_id, feature[current_node]],\n",
    "            inequality=threshold_sign,\n",
    "            threshold=threshold[current_node],\n",
    "            )\n",
    "    current_cond.append(cond)\n",
    "    current_path.append(current_node)\n",
    "    \n",
    "    recursive_path(children_left[current_node], class_leaves, conditions, path, leaves, current_cond, current_path)\n",
    "    recursive_path(children_right[current_node], class_leaves, conditions, path, leaves, current_cond, current_path)\n",
    "    return conditions, path\n",
    "    "
   ]
  },
  {
   "cell_type": "code",
   "execution_count": 92,
   "metadata": {},
   "outputs": [
    {
     "name": "stdout",
     "output_type": "stream",
     "text": [
      "0\n",
      "1\n",
      "2\n",
      "3\n",
      "4\n",
      "5\n",
      "6\n",
      "7\n",
      "8\n",
      "9\n",
      "10\n",
      "11\n",
      "12\n",
      "13\n",
      "14\n",
      "15\n",
      "16\n",
      "17\n",
      "18\n",
      "19\n",
      "20\n",
      "21\n",
      "22\n",
      "23\n",
      "24\n",
      "25\n",
      "26\n",
      "27\n",
      "28\n",
      "29\n",
      "30\n",
      "31\n",
      "32\n"
     ]
    },
    {
     "data": {
      "text/plain": [
       "([['decision node 0 : (X_test[0, mean concave points] = 0.02157) <= 0.051419999450445175)',\n",
       "   'decision node 1 : (X_test[0, worst area] = 550.6) <= 960.5)',\n",
       "   'decision node 2 : (X_test[0, worst symmetry] = 0.3206) > 0.15654999762773514)',\n",
       "   'decision node 4 : (X_test[0, worst smoothness] = 0.155) <= 0.17764999717473984)',\n",
       "   'decision node 5 : (X_test[0, worst perimeter] = 87.0) <= 108.25)',\n",
       "   'decision node 6 : (X_test[0, worst texture] = 28.81) <= 33.26999855041504)',\n",
       "   'decision node 8 : (X_test[0, worst texture] = 28.81) <= 33.79999923706055)',\n",
       "   'decision node 11 : (X_test[0, mean texture] = 20.02) <= 20.994999885559082)',\n",
       "   'decision node 13 : (X_test[0, mean smoothness] = 0.1016) > 0.09047500044107437)',\n",
       "   'decision node 16 : (X_test[0, mean concave points] = 0.02157) <= 0.03491500113159418)',\n",
       "   'decision node 19 : (X_test[0, worst fractal dimension] = 0.0895) > 0.06492000073194504)',\n",
       "   'decision node 22 : (X_test[0, worst perimeter] = 87.0) <= 103.25)',\n",
       "   'decision node 23 : (X_test[0, worst smoothness] = 0.155) <= 0.17830000072717667)',\n",
       "   'decision node 25 : (X_test[0, mean perimeter] = 75.21) > 68.01000213623047)',\n",
       "   'decision node 28 : (X_test[0, worst texture] = 28.81) > 20.875)',\n",
       "   'decision node 29 : (X_test[0, worst perimeter] = 87.0) <= 119.54999923706055)'],\n",
       "  ['decision node 0 : (X_test[0, mean concave points] = 0.02157) <= 0.051419999450445175)',\n",
       "   'decision node 1 : (X_test[0, worst area] = 550.6) <= 960.5)',\n",
       "   'decision node 2 : (X_test[0, worst symmetry] = 0.3206) > 0.15654999762773514)',\n",
       "   'decision node 4 : (X_test[0, worst smoothness] = 0.155) <= 0.17764999717473984)',\n",
       "   'decision node 5 : (X_test[0, worst perimeter] = 87.0) <= 108.25)',\n",
       "   'decision node 6 : (X_test[0, worst texture] = 28.81) <= 33.26999855041504)',\n",
       "   'decision node 8 : (X_test[0, worst texture] = 28.81) <= 33.79999923706055)',\n",
       "   'decision node 11 : (X_test[0, mean texture] = 20.02) <= 20.994999885559082)',\n",
       "   'decision node 13 : (X_test[0, mean smoothness] = 0.1016) > 0.09047500044107437)',\n",
       "   'decision node 16 : (X_test[0, mean concave points] = 0.02157) <= 0.03491500113159418)',\n",
       "   'decision node 19 : (X_test[0, worst fractal dimension] = 0.0895) > 0.06492000073194504)',\n",
       "   'decision node 22 : (X_test[0, worst perimeter] = 87.0) <= 103.25)',\n",
       "   'decision node 23 : (X_test[0, worst smoothness] = 0.155) <= 0.17830000072717667)',\n",
       "   'decision node 25 : (X_test[0, mean perimeter] = 75.21) > 68.01000213623047)',\n",
       "   'decision node 28 : (X_test[0, worst texture] = 28.81) > 20.875)',\n",
       "   'decision node 29 : (X_test[0, worst perimeter] = 87.0) <= 119.54999923706055)'],\n",
       "  ['decision node 0 : (X_test[0, mean concave points] = 0.02157) <= 0.051419999450445175)',\n",
       "   'decision node 1 : (X_test[0, worst area] = 550.6) <= 960.5)',\n",
       "   'decision node 2 : (X_test[0, worst symmetry] = 0.3206) > 0.15654999762773514)',\n",
       "   'decision node 4 : (X_test[0, worst smoothness] = 0.155) <= 0.17764999717473984)',\n",
       "   'decision node 5 : (X_test[0, worst perimeter] = 87.0) <= 108.25)',\n",
       "   'decision node 6 : (X_test[0, worst texture] = 28.81) <= 33.26999855041504)',\n",
       "   'decision node 8 : (X_test[0, worst texture] = 28.81) <= 33.79999923706055)',\n",
       "   'decision node 11 : (X_test[0, mean texture] = 20.02) <= 20.994999885559082)',\n",
       "   'decision node 13 : (X_test[0, mean smoothness] = 0.1016) > 0.09047500044107437)',\n",
       "   'decision node 16 : (X_test[0, mean concave points] = 0.02157) <= 0.03491500113159418)',\n",
       "   'decision node 19 : (X_test[0, worst fractal dimension] = 0.0895) > 0.06492000073194504)',\n",
       "   'decision node 22 : (X_test[0, worst perimeter] = 87.0) <= 103.25)',\n",
       "   'decision node 23 : (X_test[0, worst smoothness] = 0.155) <= 0.17830000072717667)',\n",
       "   'decision node 25 : (X_test[0, mean perimeter] = 75.21) > 68.01000213623047)',\n",
       "   'decision node 28 : (X_test[0, worst texture] = 28.81) > 20.875)',\n",
       "   'decision node 29 : (X_test[0, worst perimeter] = 87.0) <= 119.54999923706055)'],\n",
       "  ['decision node 0 : (X_test[0, mean concave points] = 0.02157) <= 0.051419999450445175)',\n",
       "   'decision node 1 : (X_test[0, worst area] = 550.6) <= 960.5)',\n",
       "   'decision node 2 : (X_test[0, worst symmetry] = 0.3206) > 0.15654999762773514)',\n",
       "   'decision node 4 : (X_test[0, worst smoothness] = 0.155) <= 0.17764999717473984)',\n",
       "   'decision node 5 : (X_test[0, worst perimeter] = 87.0) <= 108.25)',\n",
       "   'decision node 6 : (X_test[0, worst texture] = 28.81) <= 33.26999855041504)',\n",
       "   'decision node 8 : (X_test[0, worst texture] = 28.81) <= 33.79999923706055)',\n",
       "   'decision node 11 : (X_test[0, mean texture] = 20.02) <= 20.994999885559082)',\n",
       "   'decision node 13 : (X_test[0, mean smoothness] = 0.1016) > 0.09047500044107437)',\n",
       "   'decision node 16 : (X_test[0, mean concave points] = 0.02157) <= 0.03491500113159418)',\n",
       "   'decision node 19 : (X_test[0, worst fractal dimension] = 0.0895) > 0.06492000073194504)',\n",
       "   'decision node 22 : (X_test[0, worst perimeter] = 87.0) <= 103.25)',\n",
       "   'decision node 23 : (X_test[0, worst smoothness] = 0.155) <= 0.17830000072717667)',\n",
       "   'decision node 25 : (X_test[0, mean perimeter] = 75.21) > 68.01000213623047)',\n",
       "   'decision node 28 : (X_test[0, worst texture] = 28.81) > 20.875)',\n",
       "   'decision node 29 : (X_test[0, worst perimeter] = 87.0) <= 119.54999923706055)'],\n",
       "  ['decision node 0 : (X_test[0, mean concave points] = 0.02157) <= 0.051419999450445175)',\n",
       "   'decision node 1 : (X_test[0, worst area] = 550.6) <= 960.5)',\n",
       "   'decision node 2 : (X_test[0, worst symmetry] = 0.3206) > 0.15654999762773514)',\n",
       "   'decision node 4 : (X_test[0, worst smoothness] = 0.155) <= 0.17764999717473984)',\n",
       "   'decision node 5 : (X_test[0, worst perimeter] = 87.0) <= 108.25)',\n",
       "   'decision node 6 : (X_test[0, worst texture] = 28.81) <= 33.26999855041504)',\n",
       "   'decision node 8 : (X_test[0, worst texture] = 28.81) <= 33.79999923706055)',\n",
       "   'decision node 11 : (X_test[0, mean texture] = 20.02) <= 20.994999885559082)',\n",
       "   'decision node 13 : (X_test[0, mean smoothness] = 0.1016) > 0.09047500044107437)',\n",
       "   'decision node 16 : (X_test[0, mean concave points] = 0.02157) <= 0.03491500113159418)',\n",
       "   'decision node 19 : (X_test[0, worst fractal dimension] = 0.0895) > 0.06492000073194504)',\n",
       "   'decision node 22 : (X_test[0, worst perimeter] = 87.0) <= 103.25)',\n",
       "   'decision node 23 : (X_test[0, worst smoothness] = 0.155) <= 0.17830000072717667)',\n",
       "   'decision node 25 : (X_test[0, mean perimeter] = 75.21) > 68.01000213623047)',\n",
       "   'decision node 28 : (X_test[0, worst texture] = 28.81) > 20.875)',\n",
       "   'decision node 29 : (X_test[0, worst perimeter] = 87.0) <= 119.54999923706055)'],\n",
       "  ['decision node 0 : (X_test[0, mean concave points] = 0.02157) <= 0.051419999450445175)',\n",
       "   'decision node 1 : (X_test[0, worst area] = 550.6) <= 960.5)',\n",
       "   'decision node 2 : (X_test[0, worst symmetry] = 0.3206) > 0.15654999762773514)',\n",
       "   'decision node 4 : (X_test[0, worst smoothness] = 0.155) <= 0.17764999717473984)',\n",
       "   'decision node 5 : (X_test[0, worst perimeter] = 87.0) <= 108.25)',\n",
       "   'decision node 6 : (X_test[0, worst texture] = 28.81) <= 33.26999855041504)',\n",
       "   'decision node 8 : (X_test[0, worst texture] = 28.81) <= 33.79999923706055)',\n",
       "   'decision node 11 : (X_test[0, mean texture] = 20.02) <= 20.994999885559082)',\n",
       "   'decision node 13 : (X_test[0, mean smoothness] = 0.1016) > 0.09047500044107437)',\n",
       "   'decision node 16 : (X_test[0, mean concave points] = 0.02157) <= 0.03491500113159418)',\n",
       "   'decision node 19 : (X_test[0, worst fractal dimension] = 0.0895) > 0.06492000073194504)',\n",
       "   'decision node 22 : (X_test[0, worst perimeter] = 87.0) <= 103.25)',\n",
       "   'decision node 23 : (X_test[0, worst smoothness] = 0.155) <= 0.17830000072717667)',\n",
       "   'decision node 25 : (X_test[0, mean perimeter] = 75.21) > 68.01000213623047)',\n",
       "   'decision node 28 : (X_test[0, worst texture] = 28.81) > 20.875)',\n",
       "   'decision node 29 : (X_test[0, worst perimeter] = 87.0) <= 119.54999923706055)'],\n",
       "  ['decision node 0 : (X_test[0, mean concave points] = 0.02157) <= 0.051419999450445175)',\n",
       "   'decision node 1 : (X_test[0, worst area] = 550.6) <= 960.5)',\n",
       "   'decision node 2 : (X_test[0, worst symmetry] = 0.3206) > 0.15654999762773514)',\n",
       "   'decision node 4 : (X_test[0, worst smoothness] = 0.155) <= 0.17764999717473984)',\n",
       "   'decision node 5 : (X_test[0, worst perimeter] = 87.0) <= 108.25)',\n",
       "   'decision node 6 : (X_test[0, worst texture] = 28.81) <= 33.26999855041504)',\n",
       "   'decision node 8 : (X_test[0, worst texture] = 28.81) <= 33.79999923706055)',\n",
       "   'decision node 11 : (X_test[0, mean texture] = 20.02) <= 20.994999885559082)',\n",
       "   'decision node 13 : (X_test[0, mean smoothness] = 0.1016) > 0.09047500044107437)',\n",
       "   'decision node 16 : (X_test[0, mean concave points] = 0.02157) <= 0.03491500113159418)',\n",
       "   'decision node 19 : (X_test[0, worst fractal dimension] = 0.0895) > 0.06492000073194504)',\n",
       "   'decision node 22 : (X_test[0, worst perimeter] = 87.0) <= 103.25)',\n",
       "   'decision node 23 : (X_test[0, worst smoothness] = 0.155) <= 0.17830000072717667)',\n",
       "   'decision node 25 : (X_test[0, mean perimeter] = 75.21) > 68.01000213623047)',\n",
       "   'decision node 28 : (X_test[0, worst texture] = 28.81) > 20.875)',\n",
       "   'decision node 29 : (X_test[0, worst perimeter] = 87.0) <= 119.54999923706055)'],\n",
       "  ['decision node 0 : (X_test[0, mean concave points] = 0.02157) <= 0.051419999450445175)',\n",
       "   'decision node 1 : (X_test[0, worst area] = 550.6) <= 960.5)',\n",
       "   'decision node 2 : (X_test[0, worst symmetry] = 0.3206) > 0.15654999762773514)',\n",
       "   'decision node 4 : (X_test[0, worst smoothness] = 0.155) <= 0.17764999717473984)',\n",
       "   'decision node 5 : (X_test[0, worst perimeter] = 87.0) <= 108.25)',\n",
       "   'decision node 6 : (X_test[0, worst texture] = 28.81) <= 33.26999855041504)',\n",
       "   'decision node 8 : (X_test[0, worst texture] = 28.81) <= 33.79999923706055)',\n",
       "   'decision node 11 : (X_test[0, mean texture] = 20.02) <= 20.994999885559082)',\n",
       "   'decision node 13 : (X_test[0, mean smoothness] = 0.1016) > 0.09047500044107437)',\n",
       "   'decision node 16 : (X_test[0, mean concave points] = 0.02157) <= 0.03491500113159418)',\n",
       "   'decision node 19 : (X_test[0, worst fractal dimension] = 0.0895) > 0.06492000073194504)',\n",
       "   'decision node 22 : (X_test[0, worst perimeter] = 87.0) <= 103.25)',\n",
       "   'decision node 23 : (X_test[0, worst smoothness] = 0.155) <= 0.17830000072717667)',\n",
       "   'decision node 25 : (X_test[0, mean perimeter] = 75.21) > 68.01000213623047)',\n",
       "   'decision node 28 : (X_test[0, worst texture] = 28.81) > 20.875)',\n",
       "   'decision node 29 : (X_test[0, worst perimeter] = 87.0) <= 119.54999923706055)']],\n",
       " [[0, 1, 2, 4, 5, 6, 8, 11, 13, 16, 19, 22, 23, 25, 28, 29],\n",
       "  [0, 1, 2, 4, 5, 6, 8, 11, 13, 16, 19, 22, 23, 25, 28, 29],\n",
       "  [0, 1, 2, 4, 5, 6, 8, 11, 13, 16, 19, 22, 23, 25, 28, 29],\n",
       "  [0, 1, 2, 4, 5, 6, 8, 11, 13, 16, 19, 22, 23, 25, 28, 29],\n",
       "  [0, 1, 2, 4, 5, 6, 8, 11, 13, 16, 19, 22, 23, 25, 28, 29],\n",
       "  [0, 1, 2, 4, 5, 6, 8, 11, 13, 16, 19, 22, 23, 25, 28, 29],\n",
       "  [0, 1, 2, 4, 5, 6, 8, 11, 13, 16, 19, 22, 23, 25, 28, 29],\n",
       "  [0, 1, 2, 4, 5, 6, 8, 11, 13, 16, 19, 22, 23, 25, 28, 29]])"
      ]
     },
     "execution_count": 92,
     "metadata": {},
     "output_type": "execute_result"
    }
   ],
   "source": [
    "\n",
    "recursive_path(0,nodes_0, [], [], leaves, [], [])"
   ]
  },
  {
   "cell_type": "code",
   "execution_count": null,
   "metadata": {},
   "outputs": [],
   "source": []
  },
  {
   "cell_type": "code",
   "execution_count": null,
   "metadata": {},
   "outputs": [],
   "source": []
  }
 ],
 "metadata": {
  "kernelspec": {
   "display_name": "Python 3.10.6 64-bit",
   "language": "python",
   "name": "python3"
  },
  "language_info": {
   "codemirror_mode": {
    "name": "ipython",
    "version": 3
   },
   "file_extension": ".py",
   "mimetype": "text/x-python",
   "name": "python",
   "nbconvert_exporter": "python",
   "pygments_lexer": "ipython3",
   "version": "3.10.6"
  },
  "orig_nbformat": 4,
  "vscode": {
   "interpreter": {
    "hash": "916dbcbb3f70747c44a77c7bcd40155683ae19c65e1c03b4aa3499c5328201f1"
   }
  }
 },
 "nbformat": 4,
 "nbformat_minor": 2
}
